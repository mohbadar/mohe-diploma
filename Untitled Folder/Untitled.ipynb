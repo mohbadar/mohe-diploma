{
 "cells": [
  {
   "cell_type": "code",
   "execution_count": 4,
   "metadata": {},
   "outputs": [
    {
     "ename": "ModuleNotFoundError",
     "evalue": "No module named 'blabel'",
     "output_type": "error",
     "traceback": [
      "\u001b[1;31m---------------------------------------------------------------------------\u001b[0m",
      "\u001b[1;31mModuleNotFoundError\u001b[0m                       Traceback (most recent call last)",
      "\u001b[1;32m<ipython-input-4-386ba513a17e>\u001b[0m in \u001b[0;36m<module>\u001b[1;34m\u001b[0m\n\u001b[1;32m----> 1\u001b[1;33m \u001b[1;32mfrom\u001b[0m \u001b[0mblabel\u001b[0m \u001b[1;32mimport\u001b[0m \u001b[0mLabelWriter\u001b[0m\u001b[1;33m\u001b[0m\u001b[1;33m\u001b[0m\u001b[0m\n\u001b[0m",
      "\u001b[1;31mModuleNotFoundError\u001b[0m: No module named 'blabel'"
     ]
    }
   ],
   "source": [
    "from blabel import LabelWriter"
   ]
  },
  {
   "cell_type": "code",
   "execution_count": null,
   "metadata": {},
   "outputs": [],
   "source": [
    "from blabel import LabelWriter\n",
    "\n",
    "import pydenticon\n",
    "import base64\n",
    "\n",
    "def generate_identicon(sample_id):\n",
    "    identicon_generator = pydenticon.Generator(\n",
    "        6, 6, foreground=['red', 'blue', 'green', 'purple'])\n",
    "    img = identicon_generator.generate(sample_id, 60, 60)\n",
    "    return 'data:image/png;base64,%s' % (base64.b64encode(img).decode())\n",
    "\n",
    "label_writer = LabelWriter(\"item_template.html\",\n",
    "                           default_stylesheets=(\"style.css\",),\n",
    "                           generate_identicon=generate_identicon)\n",
    "records= [\n",
    "    dict(sample_id=\"s01\", sample_name=\"Sample 1\"),\n",
    "    dict(sample_id=\"s02\", sample_name=\"Sample 2\"),\n",
    "    dict(sample_id=\"s03\", sample_name=\"Sample 3\")\n",
    "]\n",
    "\n",
    "label_writer.write_labels(records, target='barcode_and_dynamic_picture.pdf')"
   ]
  }
 ],
 "metadata": {
  "kernelspec": {
   "display_name": "Python 3",
   "language": "python",
   "name": "python3"
  },
  "language_info": {
   "codemirror_mode": {
    "name": "ipython",
    "version": 3
   },
   "file_extension": ".py",
   "mimetype": "text/x-python",
   "name": "python",
   "nbconvert_exporter": "python",
   "pygments_lexer": "ipython3",
   "version": "3.7.6"
  }
 },
 "nbformat": 4,
 "nbformat_minor": 4
}
