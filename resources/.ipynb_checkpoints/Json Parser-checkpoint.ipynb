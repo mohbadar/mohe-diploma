{
 "cells": [
  {
   "cell_type": "code",
   "execution_count": 1,
   "metadata": {},
   "outputs": [],
   "source": [
    "import json"
   ]
  },
  {
   "cell_type": "code",
   "execution_count": 17,
   "metadata": {},
   "outputs": [],
   "source": [
    "workflow_str = '''{\n",
    "   \"steps\":[\n",
    "      {\n",
    "         \"name\":\"Open\",\n",
    "         \"transitions\":[\n",
    "            {\n",
    "               \"name\":\"Reject\",\n",
    "               \"toStep\":\"Rejected\",\n",
    "               \"CommentRequired\":true\n",
    "            },\n",
    "            {\n",
    "               \"name\":\"Close\",\n",
    "               \"toStep\":\"Closed\",\n",
    "               \"resolutions\":[\n",
    "                  \"Completed\",\n",
    "                  \"Incomplete\",\n",
    "                  \"Duplicate\"\n",
    "               ],\n",
    "               \"CommentRequired\":true\n",
    "            }\n",
    "         ],\n",
    "         \"requiredAuthorities\":[\n",
    "            \"ADMIN_ROLE\"\n",
    "         ]\n",
    "      },\n",
    "      {\n",
    "         \"name\":\"Reopened\",\n",
    "         \"transitions\":[\n",
    "            {\n",
    "               \"name\":\"Reject\",\n",
    "               \"toStep\":\"Rejected\",\n",
    "               \"CommentRequired\":\"true\"\n",
    "            },\n",
    "            {\n",
    "               \"name\":\"Close\",\n",
    "               \"toStep\":\"Closed\",\n",
    "               \"resolutions\":[\n",
    "                  \"Completed\",\n",
    "                  \"Incomplete\",\n",
    "                  \"Duplicate\"\n",
    "               ],\n",
    "               \"CommentRequired\":true\n",
    "            }\n",
    "         ],\n",
    "         \"requiredAuthorities\":[\n",
    "            \"ADMIN_ROLE\"\n",
    "         ]\n",
    "      },\n",
    "      {\n",
    "         \"name\":\"Rejected\",\n",
    "         \"transitions\":[\n",
    "            {\n",
    "               \"name\":\"Reopen\",\n",
    "               \"toStep\":\"Reopened\",\n",
    "               \"CommentRequired\":\"false\"\n",
    "            },\n",
    "            {\n",
    "               \"name\":\"Close\",\n",
    "               \"toStep\":\"Closed\",\n",
    "               \"resolutions\":[\n",
    "                  \"Completed\",\n",
    "                  \"Incomplete\",\n",
    "                  \"Duplicate\"\n",
    "               ],\n",
    "               \"CommentRequired\":true\n",
    "            }\n",
    "         ],\n",
    "         \"requiredAuthorities\":[\n",
    "            \"ADMIN_ROLE\"\n",
    "         ]\n",
    "      },\n",
    "      {\n",
    "         \"name\":\"Closed\",\n",
    "         \"transitions\":[\n",
    "\n",
    "         ],\n",
    "         \"requiredAuthorities\":[\n",
    "            \"ADMIN_ROLE\"\n",
    "         ]\n",
    "      }\n",
    "   ]\n",
    "}'''\n"
   ]
  },
  {
   "cell_type": "code",
   "execution_count": 18,
   "metadata": {},
   "outputs": [],
   "source": [
    "def load_json(jsonstr):\n",
    "    return json.loads(jsonstr)"
   ]
  },
  {
   "cell_type": "code",
   "execution_count": 45,
   "metadata": {},
   "outputs": [],
   "source": [
    "def load_all_steps(jsonobj):\n",
    "    if jsonobj:\n",
    "        return jsonobj[\"steps\"]\n",
    "    return None"
   ]
  },
  {
   "cell_type": "code",
   "execution_count": 26,
   "metadata": {},
   "outputs": [],
   "source": [
    "def load_init_step(jsonobj):\n",
    "    if jsonobj:\n",
    "        return jsonobj[\"steps\"][0]\n",
    "    return None"
   ]
  },
  {
   "cell_type": "code",
   "execution_count": 67,
   "metadata": {},
   "outputs": [],
   "source": [
    "def load_step_by_name(stepname,steps):\n",
    "    for step in steps:\n",
    "        if step['name'] == stepname:\n",
    "            return step\n",
    "    return None"
   ]
  },
  {
   "cell_type": "code",
   "execution_count": null,
   "metadata": {},
   "outputs": [],
   "source": [
    "def load_step_by_tostep(tostep,transition):\n",
    "    for step in steps:\n",
    "        if step['tostep'] == tostep:\n",
    "            return step\n",
    "    return None"
   ]
  },
  {
   "cell_type": "code",
   "execution_count": 85,
   "metadata": {},
   "outputs": [],
   "source": [
    "def load_step_transitions(step):\n",
    "    if step:\n",
    "        return step['transitions']\n",
    "    return None"
   ]
  },
  {
   "cell_type": "code",
   "execution_count": 43,
   "metadata": {},
   "outputs": [],
   "source": [
    "def load_step_required_authorties(step):\n",
    "    if step:\n",
    "        return step['requiredAuthorities']\n",
    "    return None"
   ]
  },
  {
   "cell_type": "code",
   "execution_count": 95,
   "metadata": {},
   "outputs": [],
   "source": [
    "def has_authority(step , authorties):\n",
    "    \n",
    "    required_authorities = load_step_required_authorties(step)\n",
    "    result =  any(elem in required_authorities  for elem in authorties)\n",
    "    return result\n",
    "    "
   ]
  },
  {
   "cell_type": "code",
   "execution_count": 103,
   "metadata": {},
   "outputs": [],
   "source": [
    "def load_authorized_next_transition(instance_current_stepname,steps, authorities):\n",
    "    if instance_current_stepname == None:\n",
    "        return load_init_step(jsonobj)\n",
    "    else:\n",
    "        currentstep = load_step_by_name(instance_current_stepname, steps)\n",
    "        step_transitions = load_step_transitions(currentstep)\n",
    "        authorized_transitions = []\n",
    "        \n",
    "        for transition in step_transitions:\n",
    "            tostep = transition['toStep']\n",
    "#             print(tostep)\n",
    "            step  = load_step_by_name(tostep,steps)\n",
    "            \n",
    "            authorized = has_authority(step,authorities)\n",
    "            \n",
    "            if authorized :\n",
    "                authorized_transitions.append(step)\n",
    "                \n",
    "        return authorized_transitions"
   ]
  },
  {
   "cell_type": "code",
   "execution_count": 81,
   "metadata": {},
   "outputs": [
    {
     "data": {
      "text/plain": [
       "{'name': 'Open',\n",
       " 'transitions': [{'name': 'Reject',\n",
       "   'toStep': 'Rejected',\n",
       "   'CommentRequired': True},\n",
       "  {'name': 'Close',\n",
       "   'toStep': 'Closed',\n",
       "   'resolutions': ['Completed', 'Incomplete', 'Duplicate'],\n",
       "   'CommentRequired': True}],\n",
       " 'requiredAuthorities': ['ADMIN_ROLE']}"
      ]
     },
     "execution_count": 81,
     "metadata": {},
     "output_type": "execute_result"
    }
   ],
   "source": [
    "jsonobj =load_json(workflow_str)\n",
    "load_init_step(jsonobj)"
   ]
  },
  {
   "cell_type": "code",
   "execution_count": 82,
   "metadata": {},
   "outputs": [
    {
     "data": {
      "text/plain": [
       "[{'name': 'Open',\n",
       "  'transitions': [{'name': 'Reject',\n",
       "    'toStep': 'Rejected',\n",
       "    'CommentRequired': True},\n",
       "   {'name': 'Close',\n",
       "    'toStep': 'Closed',\n",
       "    'resolutions': ['Completed', 'Incomplete', 'Duplicate'],\n",
       "    'CommentRequired': True}],\n",
       "  'requiredAuthorities': ['ADMIN_ROLE']},\n",
       " {'name': 'Reopened',\n",
       "  'transitions': [{'name': 'Reject',\n",
       "    'toStep': 'Rejected',\n",
       "    'CommentRequired': 'true'},\n",
       "   {'name': 'Close',\n",
       "    'toStep': 'Closed',\n",
       "    'resolutions': ['Completed', 'Incomplete', 'Duplicate'],\n",
       "    'CommentRequired': True}],\n",
       "  'requiredAuthorities': ['ADMIN_ROLE']},\n",
       " {'name': 'Rejected',\n",
       "  'transitions': [{'name': 'Reopen',\n",
       "    'toStep': 'Reopened',\n",
       "    'CommentRequired': 'false'},\n",
       "   {'name': 'Close',\n",
       "    'toStep': 'Closed',\n",
       "    'resolutions': ['Completed', 'Incomplete', 'Duplicate'],\n",
       "    'CommentRequired': True}],\n",
       "  'requiredAuthorities': ['ADMIN_ROLE']},\n",
       " {'name': 'Closed', 'transitions': [], 'requiredAuthorities': ['ADMIN_ROLE']}]"
      ]
     },
     "execution_count": 82,
     "metadata": {},
     "output_type": "execute_result"
    }
   ],
   "source": [
    "steps = load_all_steps(jsonobj)\n",
    "steps"
   ]
  },
  {
   "cell_type": "code",
   "execution_count": 83,
   "metadata": {},
   "outputs": [
    {
     "data": {
      "text/plain": [
       "{'name': 'Open',\n",
       " 'transitions': [{'name': 'Reject',\n",
       "   'toStep': 'Rejected',\n",
       "   'CommentRequired': True},\n",
       "  {'name': 'Close',\n",
       "   'toStep': 'Closed',\n",
       "   'resolutions': ['Completed', 'Incomplete', 'Duplicate'],\n",
       "   'CommentRequired': True}],\n",
       " 'requiredAuthorities': ['ADMIN_ROLE']}"
      ]
     },
     "execution_count": 83,
     "metadata": {},
     "output_type": "execute_result"
    }
   ],
   "source": [
    "step  = load_step_by_name('Open', steps)\n",
    "step"
   ]
  },
  {
   "cell_type": "code",
   "execution_count": 86,
   "metadata": {},
   "outputs": [
    {
     "data": {
      "text/plain": [
       "[{'name': 'Reject', 'toStep': 'Rejected', 'CommentRequired': True},\n",
       " {'name': 'Close',\n",
       "  'toStep': 'Closed',\n",
       "  'resolutions': ['Completed', 'Incomplete', 'Duplicate'],\n",
       "  'CommentRequired': True}]"
      ]
     },
     "execution_count": 86,
     "metadata": {},
     "output_type": "execute_result"
    }
   ],
   "source": [
    "load_step_transitions(step)"
   ]
  },
  {
   "cell_type": "code",
   "execution_count": 87,
   "metadata": {},
   "outputs": [
    {
     "data": {
      "text/plain": [
       "['ADMIN_ROLE']"
      ]
     },
     "execution_count": 87,
     "metadata": {},
     "output_type": "execute_result"
    }
   ],
   "source": [
    "load_step_required_authorties(step)"
   ]
  },
  {
   "cell_type": "code",
   "execution_count": 98,
   "metadata": {},
   "outputs": [
    {
     "data": {
      "text/plain": [
       "False"
      ]
     },
     "execution_count": 98,
     "metadata": {},
     "output_type": "execute_result"
    }
   ],
   "source": [
    "authorities = ['test', 'ADMIN_ROL']\n",
    "has_authority(step,authorities)"
   ]
  },
  {
   "cell_type": "code",
   "execution_count": 104,
   "metadata": {},
   "outputs": [
    {
     "data": {
      "text/plain": [
       "[]"
      ]
     },
     "execution_count": 104,
     "metadata": {},
     "output_type": "execute_result"
    }
   ],
   "source": [
    "load_authorized_next_transition('Open',steps, authorities)"
   ]
  },
  {
   "cell_type": "code",
   "execution_count": null,
   "metadata": {},
   "outputs": [],
   "source": []
  }
 ],
 "metadata": {
  "kernelspec": {
   "display_name": "Python 3",
   "language": "python",
   "name": "python3"
  },
  "language_info": {
   "codemirror_mode": {
    "name": "ipython",
    "version": 3
   },
   "file_extension": ".py",
   "mimetype": "text/x-python",
   "name": "python",
   "nbconvert_exporter": "python",
   "pygments_lexer": "ipython3",
   "version": "3.7.3"
  }
 },
 "nbformat": 4,
 "nbformat_minor": 2
}
